{
 "cells": [
  {
   "cell_type": "code",
   "execution_count": 1,
   "metadata": {},
   "outputs": [],
   "source": [
    "import tomllib\n",
    "\n",
    "import ehc_sn as ehc\n",
    "import matplotlib.pyplot as plt\n",
    "import torch\n",
    "from IPython.display import clear_output, display"
   ]
  },
  {
   "cell_type": "code",
   "execution_count": 2,
   "metadata": {},
   "outputs": [],
   "source": [
    "with open(\"configurations/navigation_network.toml\", \"rb\") as f:\n",
    "    data = tomllib.load(f)"
   ]
  },
  {
   "cell_type": "code",
   "execution_count": 3,
   "metadata": {},
   "outputs": [
    {
     "data": {
      "text/plain": [
       "OptimizedModule(\n",
       "  (_orig_mod): EHCNetwork(\n",
       "    (mapping): EILayer(\n",
       "      (neurons): BaseLayer(p=LIFRefracParameters(lif=LIFParameters(tau_syn_inv=tensor(10., device='cuda:0'), tau_mem_inv=tensor(4.5000, device='cuda:0'), v_leak=tensor(-40., device='cuda:0'), v_th=tensor(-50., device='cuda:0'), v_reset=tensor(-60., device='cuda:0'), method='super', alpha=tensor(0.5000, device='cuda:0')), rho_reset=tensor(5, device='cuda:0')), dt=0.001)\n",
       "      (ampa): Inputs()\n",
       "      (gaba): Inputs()\n",
       "    )\n",
       "    (inhibitory): EILayer(\n",
       "      (neurons): BaseLayer(p=LIFRefracParameters(lif=LIFParameters(tau_syn_inv=tensor(10., device='cuda:0'), tau_mem_inv=tensor(4.5000, device='cuda:0'), v_leak=tensor(-50., device='cuda:0'), v_th=tensor(-50., device='cuda:0'), v_reset=tensor(-60., device='cuda:0'), method='super', alpha=tensor(0.5000, device='cuda:0')), rho_reset=tensor(5, device='cuda:0')), dt=0.001)\n",
       "      (ampa): Inputs()\n",
       "      (gaba): Inputs()\n",
       "    )\n",
       "    (embedding): EILayer(\n",
       "      (neurons): BaseLayer(p=LIFRefracParameters(lif=LIFParameters(tau_syn_inv=tensor(10., device='cuda:0'), tau_mem_inv=tensor(4.5000, device='cuda:0'), v_leak=tensor(-60., device='cuda:0'), v_th=tensor(-50., device='cuda:0'), v_reset=tensor(-60., device='cuda:0'), method='super', alpha=tensor(0.5000, device='cuda:0')), rho_reset=tensor(5, device='cuda:0')), dt=0.001)\n",
       "      (ampa): Inputs()\n",
       "      (gaba): Inputs()\n",
       "    )\n",
       "  )\n",
       ")"
      ]
     },
     "execution_count": 3,
     "metadata": {},
     "output_type": "execute_result"
    }
   ],
   "source": [
    "parameters = ehc.Parameters.model_validate(data)\n",
    "model = ehc.EHCNetwork(p=parameters)\n",
    "model = torch.compile(model)\n",
    "model.eval()"
   ]
  },
  {
   "cell_type": "code",
   "execution_count": 4,
   "metadata": {},
   "outputs": [],
   "source": [
    "decoders = [ehc.decoders.HannDecoder(window_length=100) for _ in range(2)]"
   ]
  },
  {
   "cell_type": "code",
   "execution_count": 5,
   "metadata": {},
   "outputs": [],
   "source": [
    "def signal_loader(n, i1=0.0, i2=0.0):\n",
    "    x1 = torch.zeros(800, device=ehc.device).detach()\n",
    "    x1[:200] = i1\n",
    "    x2 = torch.zeros(800, device=ehc.device).detach()\n",
    "    x2[:200] = i2\n",
    "    for _ in range(n):\n",
    "        yield x1, x2"
   ]
  },
  {
   "cell_type": "code",
   "execution_count": 6,
   "metadata": {},
   "outputs": [],
   "source": [
    "for sensors, memory in signal_loader(40000, i1=1.0, i2=1.0):\n",
    "    cmap, embedding = model(sensors, memory)"
   ]
  },
  {
   "cell_type": "code",
   "execution_count": null,
   "metadata": {},
   "outputs": [
    {
     "data": {
      "image/png": "[encoded data removed]",
      "text/plain": [
       "<Figure size 1000x800 with 2 Axes>"
      ]
     },
     "metadata": {},
     "output_type": "display_data"
    }
   ],
   "source": [
    "# Initializing the figure for the animation\n",
    "zeros = torch.zeros(40, 20).cpu().numpy()  # Initial data for the image\n",
    "vmin, vmax = 0, 0.04\n",
    "fig, ax = plt.subplots(1, 2, figsize=(10, 8))\n",
    "imgfig = ax[0].imshow(zeros.copy(), cmap=\"hot\", vmin=vmin, vmax=vmax)\n",
    "imgemb = ax[1].imshow(zeros.copy(), cmap=\"hot\", vmin=vmin, vmax=vmax)\n",
    "fig.tight_layout()\n",
    "\n",
    "# Set the titles and labels for the cognitive map figure\n",
    "ax[0].set_title(\"Firing Rate Map\")\n",
    "ax[0].set_xlabel(\"X-axis\"), ax[0].set_ylabel(\"Y-axis\")\n",
    "ax[0].set_xticks([]), ax[0].set_yticks([])\n",
    "\n",
    "# Set the titles and labels for the embedding figure\n",
    "ax[1].set_title(\"Embedding Map\")\n",
    "ax[1].set_xlabel(\"X-axis\"), ax[1].set_ylabel(\"Y-axis\")\n",
    "ax[1].set_xticks([]), ax[1].set_yticks([])\n",
    "\n",
    "# Set up the decoders to extract the firing rates\n",
    "\n",
    "# Run simulation and update the figure\n",
    "for sensors, memory in signal_loader(10000, i1=0.0, i2=1.0):\n",
    "\n",
    "    # Get the next output from the model\n",
    "    cmap, embedding = model(sensors, memory)\n",
    "\n",
    "    # Update the image data\n",
    "    cmap = decoders[0](cmap).reshape(40, 20)  # Reshape to match the image size\n",
    "    imgfig.set_data(cmap.cpu().numpy())  # Update the image data\n",
    "\n",
    "    # Update the embedding data\n",
    "    embedding = decoders[1](embedding).reshape(40, 20)  # Reshape to match the image size\n",
    "    imgemb.set_data(embedding.cpu().numpy())  # Update the embedding data\n",
    "\n",
    "    # Clear the previous output and display the updated figure\n",
    "    clear_output(wait=True)\n",
    "    display(fig)  # Display the updated figure\n",
    "    plt.pause(0.01)  # Pause to allow the figure to update\n",
    "\n",
    "pass  # This is a placeholder to avoid display errors"
   ]
  }
 ],
 "metadata": {
  "kernelspec": {
   "display_name": "bccn",
   "language": "python",
   "name": "python3"
  },
  "language_info": {
   "codemirror_mode": {
    "name": "ipython",
    "version": 3
   },
   "file_extension": ".py",
   "mimetype": "text/x-python",
   "name": "python",
   "nbconvert_exporter": "python",
   "pygments_lexer": "ipython3",
   "version": "3.12.8"
  }
 },
 "nbformat": 4,
 "nbformat_minor": 2
}
