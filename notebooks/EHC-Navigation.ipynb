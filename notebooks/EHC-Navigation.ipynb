{
 "cells": [
  {
   "cell_type": "code",
   "execution_count": null,
   "metadata": {},
   "outputs": [],
   "source": [
    "import tomllib\n",
    "\n",
    "import ehc_sn as ehc\n",
    "import matplotlib.pyplot as plt\n",
    "import torch\n",
    "from IPython.display import clear_output, display\n",
    "\n",
    "import maces as spnav_maces"
   ]
  },
  {
   "cell_type": "code",
   "execution_count": null,
   "metadata": {},
   "outputs": [],
   "source": [
    "with open(\"configurations/navigation_network.toml\", \"rb\") as f:\n",
    "    data = tomllib.load(f)"
   ]
  },
  {
   "cell_type": "code",
   "execution_count": null,
   "metadata": {},
   "outputs": [],
   "source": [
    "parameters = ehc.Parameters.model_validate(data)\n",
    "model = ehc.EHCNetwork(p=parameters)\n",
    "model = torch.compile(model)\n",
    "model.eval()"
   ]
  },
  {
   "cell_type": "code",
   "execution_count": null,
   "metadata": {},
   "outputs": [],
   "source": [
    "torch.save(model.state_dict(), \"models/stage_0.pt\")"
   ]
  },
  {
   "cell_type": "code",
   "execution_count": null,
   "metadata": {},
   "outputs": [],
   "source": [
    "torch.load(\"models/stage_0.pt\", map_location=ehc.device)"
   ]
  },
  {
   "cell_type": "code",
   "execution_count": null,
   "metadata": {},
   "outputs": [],
   "source": [
    "w = {\n",
    "    \"mapping\": {\"ampa\": [], \"gaba\": []},  # Store weights for mapping\n",
    "    \"embedding\": {\"ampa\": [], \"gaba\": []},  # Store weights for embedding\n",
    "    \"inhibitory\": {\"ampa\": [], \"gaba\": []},  # Store weights for inhibitory\n",
    "}\n",
    "\n",
    "\n",
    "def update_weights(model):\n",
    "    w[\"mapping\"][\"ampa\"].append(model.mapping.ampa.w.sum().cpu().numpy())\n",
    "    w[\"mapping\"][\"gaba\"].append(model.mapping.gaba.w.sum().cpu().numpy())\n",
    "    w[\"embedding\"][\"ampa\"].append(model.embedding.ampa.w.sum().cpu().numpy())\n",
    "    w[\"embedding\"][\"gaba\"].append(model.embedding.gaba.w.sum().cpu().numpy())\n",
    "    w[\"inhibitory\"][\"ampa\"].append(model.inhibitory.ampa.w.sum().cpu().numpy())\n",
    "    w[\"inhibitory\"][\"gaba\"].append(model.inhibitory.gaba.w.sum().cpu().numpy())\n",
    "\n",
    "\n",
    "def plot_weights(title=\"Model weights\"):\n",
    "    fig, ax = plt.subplots(1, 3, figsize=(15, 5), sharey=True)\n",
    "    fig.suptitle(title)\n",
    "    for i, (key, value) in enumerate(w.items()):\n",
    "        ax[i].set_title(key)\n",
    "        ax[i].plot(value[\"ampa\"], label=\"SUM AMPA\", color=\"blue\")\n",
    "        ax[i].plot(value[\"gaba\"], label=\"SUM GABA\", color=\"red\")\n",
    "        ax[0].set_ylabel(\"Weight\"), ax[i].set_xlabel(\"Time\")\n",
    "        ax[i].legend()\n",
    "    plt.tight_layout()\n",
    "    plt.show()"
   ]
  },
  {
   "cell_type": "code",
   "execution_count": null,
   "metadata": {},
   "outputs": [],
   "source": [
    "torch.random.manual_seed(0)"
   ]
  },
  {
   "cell_type": "code",
   "execution_count": null,
   "metadata": {},
   "outputs": [],
   "source": [
    "decoders = [ehc.decoders.HannDecoder(window_length=100) for _ in range(2)]\n",
    "maces = [spnav_maces.random(size=(40, 20), num_points=200) for _ in range(2)]"
   ]
  },
  {
   "cell_type": "code",
   "execution_count": null,
   "metadata": {},
   "outputs": [],
   "source": [
    "fig, ax = plt.subplots(1, 2, figsize=(10, 5))\n",
    "for i, mace in enumerate(maces):\n",
    "    agent_position = spnav_maces.free(mace)  # Get a free position for the agent\n",
    "    near_area = spnav_maces.near(mace, agent_position)  # Get the near area around the agent\n",
    "\n",
    "    # Combine mace, agent position, and near area for visualization\n",
    "    spnav_maces.plot(mace, position=agent_position, near_area=near_area, ax=ax[i])\n",
    "\n",
    "plt.show()"
   ]
  },
  {
   "cell_type": "code",
   "execution_count": null,
   "metadata": {},
   "outputs": [],
   "source": [
    "def plot_networks(mace, entorhinal, sensors, embeddings):\n",
    "    fig, ax = plt.subplots(1, 4, figsize=(10, 8))\n",
    "    ax[0].imshow(1 - mace.cpu().numpy(), cmap=\"hot\", vmin=0.0, vmax=1.0)\n",
    "    imgfig = ax[1].imshow(entorhinal, cmap=\"hot\", vmin=0.0, vmax=0.2)\n",
    "    imgsen = ax[2].imshow(sensors, cmap=\"hot\", vmin=-10.0, vmax=10.0)\n",
    "    imgemb = ax[3].imshow(embeddings, cmap=\"hot\", vmin=0.0, vmax=0.2)\n",
    "    fig.tight_layout()\n",
    "\n",
    "    # Set the titles and labels for the cognitive map figure\n",
    "    ax[0].set_title(\"Real Map\")\n",
    "    ax[1].set_title(\"Firing Rate Map\")\n",
    "    ax[2].set_title(\"Sensors Map\")\n",
    "    ax[3].set_title(\"Embeddings Map\")\n",
    "\n",
    "    # Set the axes to be invisible\n",
    "    for axi in ax:\n",
    "        axi.set_xlabel(\"X-axis\"), axi.set_ylabel(\"Y-axis\")\n",
    "        axi.set_xticks([]), axi.set_yticks([])\n",
    "\n",
    "    return fig, imgfig, imgsen, imgemb"
   ]
  },
  {
   "cell_type": "code",
   "execution_count": null,
   "metadata": {},
   "outputs": [],
   "source": [
    "def signal_loader(n, mace: torch.Tensor, gain=1.0, decay=0.3):\n",
    "    position = spnav_maces.free(mace)\n",
    "    for _ in range(n):\n",
    "        yield gain * spnav_maces.sensor(mace, position, decay).flatten().to(ehc.device)\n",
    "        # Next position should be near previous, not touching the wall\n",
    "        position = spnav_maces.random_near(mace, position)"
   ]
  },
  {
   "cell_type": "code",
   "execution_count": null,
   "metadata": {},
   "outputs": [],
   "source": [
    "def simulate(n, mace, memory, decoders, gain=10.0, decay=0.3):\n",
    "    z = torch.zeros(40, 20).detach().cpu().numpy()\n",
    "    fig, imgfig, imgsen, imgemb = plot_networks(mace, z.copy(), z.copy(), z.copy())\n",
    "\n",
    "    # Run simulation and update the figure\n",
    "    for sensors in signal_loader(n, mace, gain, decay):\n",
    "\n",
    "        # Get the next output from the model\n",
    "        cmap, embedding = model(sensors, memory)\n",
    "        cmap = decoders[0](cmap).reshape(40, 20)  # Reshape to match the image size\n",
    "        embedding = decoders[1](embedding).reshape(40, 20)  # Reshape to match the image size\n",
    "        sensors = sensors.reshape(40, 20)  # Reshape to match the image size\n",
    "\n",
    "        # Update the weights for mapping, embedding, and inhibitory\n",
    "        update_weights(model)\n",
    "\n",
    "        # Update the images data\n",
    "        imgfig.set_data(cmap.cpu().numpy())  # Update the image data\n",
    "        imgsen.set_data(sensors.cpu().numpy())  # Update the sensors data\n",
    "        imgemb.set_data(embedding.cpu().numpy())  # Update the embedding data\n",
    "\n",
    "        # Clear the previous output and display the updated figure\n",
    "        clear_output(wait=True)\n",
    "        display(fig)  # Display the updated figure\n",
    "        plt.pause(0.01)  # Pause to allow the figure to update"
   ]
  },
  {
   "cell_type": "code",
   "execution_count": null,
   "metadata": {},
   "outputs": [],
   "source": [
    "memory_0 = 0.2 * torch.ones(800, device=ehc.device).detach()\n",
    "for sensors in signal_loader(2000, maces[0], gain=0.0, decay=0.0):\n",
    "    cmap, embedding = model(sensors, memory_0)\n",
    "    update_weights(model)\n",
    "\n",
    "plot_weights(\"Model weights before training\")"
   ]
  },
  {
   "cell_type": "code",
   "execution_count": null,
   "metadata": {},
   "outputs": [],
   "source": [
    "torch.save(model.state_dict(), \"models/stage_1.pt\")"
   ]
  },
  {
   "cell_type": "code",
   "execution_count": null,
   "metadata": {},
   "outputs": [],
   "source": [
    "torch.load(\"models/stage_1.pt\", map_location=ehc.device)"
   ]
  },
  {
   "cell_type": "code",
   "execution_count": null,
   "metadata": {},
   "outputs": [],
   "source": [
    "simulate(200, maces[0], memory_0, decoders, gain=0.0)"
   ]
  },
  {
   "cell_type": "code",
   "execution_count": null,
   "metadata": {},
   "outputs": [],
   "source": [
    "memory_1 = torch.zeros(800, device=ehc.device).detach()\n",
    "memory_1[:200], memory_1[200:] = 10.0, 0.1\n",
    "simulate(200, maces[0], memory_1, decoders, gain=10.0, decay=0.0)"
   ]
  },
  {
   "cell_type": "code",
   "execution_count": null,
   "metadata": {},
   "outputs": [],
   "source": [
    "for sensors in signal_loader(25000, maces[0], gain=10.0, decay=0.0):\n",
    "    cmap, embedding = model(sensors, memory_1)\n",
    "    update_weights(model)\n",
    "\n",
    "plot_weights(\"Model weights during first training\")"
   ]
  },
  {
   "cell_type": "code",
   "execution_count": null,
   "metadata": {},
   "outputs": [],
   "source": [
    "for sensors in signal_loader(120000, maces[0], gain=0.0, decay=0.0):\n",
    "    cmap, embedding = model(sensors, memory_0)\n",
    "    update_weights(model)\n",
    "\n",
    "plot_weights(\"Model weights after training\")"
   ]
  },
  {
   "cell_type": "code",
   "execution_count": null,
   "metadata": {},
   "outputs": [],
   "source": [
    "torch.save(model.state_dict(), \"models/stage_2.pt\")"
   ]
  },
  {
   "cell_type": "code",
   "execution_count": null,
   "metadata": {},
   "outputs": [],
   "source": [
    "torch.load(\"models/stage_2.pt\", map_location=ehc.device)"
   ]
  },
  {
   "cell_type": "code",
   "execution_count": null,
   "metadata": {},
   "outputs": [],
   "source": [
    "simulate(200, maces[0], memory_0, decoders, gain=0.0)"
   ]
  },
  {
   "cell_type": "code",
   "execution_count": null,
   "metadata": {},
   "outputs": [],
   "source": [
    "simulate(800, maces[0], memory_0, decoders, gain=10.0)"
   ]
  },
  {
   "cell_type": "code",
   "execution_count": null,
   "metadata": {},
   "outputs": [],
   "source": [
    "simulate(200, maces[0], memory_1, decoders, gain=0.0)"
   ]
  },
  {
   "cell_type": "code",
   "execution_count": null,
   "metadata": {},
   "outputs": [],
   "source": [
    "for sensors in signal_loader(1000, maces[0], gain=0.0):\n",
    "    cmap, embedding = model(sensors, memory_0)"
   ]
  },
  {
   "cell_type": "code",
   "execution_count": null,
   "metadata": {},
   "outputs": [],
   "source": [
    "simulate(200, maces[0], memory_0, decoders, gain=0.0)"
   ]
  },
  {
   "cell_type": "code",
   "execution_count": null,
   "metadata": {},
   "outputs": [],
   "source": [
    "memory_2 = torch.zeros(800, device=ehc.device).detach()\n",
    "memory_2[:-200], memory_2[-200:] = 0.1, 10.0\n",
    "simulate(200, maces[1], memory_2, decoders, gain=10.0, decay=0.0)"
   ]
  },
  {
   "cell_type": "code",
   "execution_count": null,
   "metadata": {},
   "outputs": [],
   "source": [
    "for sensors in signal_loader(50000, maces[1], gain=10.0, decay=0.0):\n",
    "    cmap, embedding = model(sensors, memory_2)\n",
    "    update_weights(model)\n",
    "\n",
    "plot_weights(\"Model weights during second training\")"
   ]
  },
  {
   "cell_type": "code",
   "execution_count": null,
   "metadata": {},
   "outputs": [],
   "source": [
    "for sensors in signal_loader(120000, maces[1], gain=0.0, decay=0.0):\n",
    "    cmap, embedding = model(sensors, memory_0)\n",
    "    update_weights(model)\n",
    "\n",
    "plot_weights(\"Model weights after training\")"
   ]
  },
  {
   "cell_type": "code",
   "execution_count": null,
   "metadata": {},
   "outputs": [],
   "source": [
    "torch.save(model.state_dict(), \"models/stage_3.pt\")"
   ]
  },
  {
   "cell_type": "code",
   "execution_count": null,
   "metadata": {},
   "outputs": [],
   "source": [
    "torch.save(model.state_dict(), \"models/stage_3.pt\")"
   ]
  },
  {
   "cell_type": "code",
   "execution_count": null,
   "metadata": {},
   "outputs": [],
   "source": [
    "simulate(200, maces[1], memory_0, decoders, gain=0.0)"
   ]
  },
  {
   "cell_type": "code",
   "execution_count": null,
   "metadata": {},
   "outputs": [],
   "source": [
    "simulate(800, maces[0], memory_0, decoders, gain=10.0)"
   ]
  }
 ],
 "metadata": {
  "kernelspec": {
   "display_name": "bccn",
   "language": "python",
   "name": "python3"
  },
  "language_info": {
   "codemirror_mode": {
    "name": "ipython",
    "version": 3
   },
   "file_extension": ".py",
   "mimetype": "text/x-python",
   "name": "python",
   "nbconvert_exporter": "python",
   "pygments_lexer": "ipython3",
   "version": "3.12.8"
  }
 },
 "nbformat": 4,
 "nbformat_minor": 2
}
