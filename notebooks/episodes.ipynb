{
 "cells": [
  {
   "cell_type": "code",
   "execution_count": 1,
   "metadata": {},
   "outputs": [],
   "source": [
    "import ehc_sn as ehc\n",
    "import matplotlib.pyplot as plt\n",
    "import numpy as np"
   ]
  },
  {
   "cell_type": "code",
   "execution_count": 2,
   "metadata": {},
   "outputs": [
    {
     "name": "stdout",
     "output_type": "stream",
     "text": [
      "pygame 2.6.1 (SDL 2.28.4, Python 3.12.8)\n",
      "Hello from the pygame community. https://www.pygame.org/contribute.html\n",
      "INFO:__main__:Getting map environment: example\n",
      "INFO:__main__:Starting manual control\n",
      "pressed right\n",
      "step=1, reward=0.00\n",
      "pressed up\n",
      "step=2, reward=0.00\n",
      "pressed left\n",
      "step=3, reward=0.00\n",
      "pressed up\n",
      "step=4, reward=0.00\n",
      "pressed right\n",
      "step=5, reward=0.00\n",
      "pressed up\n",
      "step=6, reward=0.00\n",
      "pressed left\n",
      "step=7, reward=0.00\n",
      "pressed up\n",
      "step=8, reward=0.00\n",
      "pressed right\n",
      "step=9, reward=0.00\n",
      "pressed up\n",
      "step=10, reward=0.00\n",
      "pressed up\n",
      "step=11, reward=0.00\n",
      "pressed up\n",
      "step=12, reward=0.00\n",
      "pressed up\n",
      "step=13, reward=0.00\n",
      "pressed left\n",
      "step=14, reward=0.00\n",
      "pressed up\n",
      "step=15, reward=0.00\n",
      "pressed right\n",
      "step=16, reward=0.00\n",
      "pressed up\n",
      "step=17, reward=0.00\n",
      "pressed up\n",
      "step=18, reward=0.00\n",
      "pressed left\n",
      "step=19, reward=0.00\n",
      "pressed up\n",
      "step=20, reward=0.00\n",
      "pressed up\n",
      "step=21, reward=0.00\n",
      "pressed left\n",
      "step=22, reward=0.00\n",
      "pressed up\n",
      "step=23, reward=0.00\n",
      "pressed up\n",
      "step=24, reward=0.00\n",
      "pressed right\n",
      "step=25, reward=0.00\n",
      "pressed up\n",
      "step=26, reward=0.00\n",
      "pressed up\n",
      "step=27, reward=0.00\n",
      "pressed right\n",
      "step=28, reward=0.00\n",
      "pressed up\n",
      "step=29, reward=0.00\n",
      "pressed up\n",
      "step=30, reward=0.73\n",
      "terminated!\n",
      "pressed right\n",
      "step=1, reward=0.00\n",
      "pressed up\n",
      "step=2, reward=0.00\n",
      "pressed up\n",
      "step=3, reward=0.00\n",
      "pressed up\n",
      "step=4, reward=0.00\n",
      "pressed up\n",
      "step=5, reward=0.00\n",
      "pressed up\n",
      "step=6, reward=0.00\n",
      "pressed up\n",
      "step=7, reward=0.00\n",
      "pressed up\n",
      "step=8, reward=0.00\n",
      "pressed up\n",
      "step=9, reward=0.00\n",
      "pressed left\n",
      "step=10, reward=0.00\n",
      "pressed up\n",
      "step=11, reward=0.00\n",
      "pressed up\n",
      "step=12, reward=0.00\n",
      "pressed up\n",
      "step=13, reward=0.00\n",
      "pressed up\n",
      "step=14, reward=0.00\n",
      "pressed up\n",
      "step=15, reward=0.00\n",
      "pressed up\n",
      "step=16, reward=0.00\n",
      "pressed up\n",
      "step=17, reward=0.85\n",
      "terminated!\n",
      "pressed up\n",
      "step=1, reward=0.00\n",
      "pressed right\n",
      "step=2, reward=0.00\n",
      "pressed up\n",
      "step=3, reward=0.00\n",
      "pressed up\n",
      "step=4, reward=0.00\n",
      "pressed right\n",
      "step=5, reward=0.00\n",
      "pressed up\n",
      "step=6, reward=0.00\n",
      "pressed left\n",
      "step=7, reward=0.00\n",
      "pressed up\n",
      "step=8, reward=0.00\n",
      "pressed up\n",
      "step=9, reward=0.00\n",
      "pressed up\n",
      "step=10, reward=0.00\n",
      "pressed up\n",
      "step=11, reward=0.00\n",
      "pressed left\n",
      "step=12, reward=0.00\n",
      "pressed up\n",
      "step=13, reward=0.00\n",
      "pressed up\n",
      "step=14, reward=0.00\n",
      "pressed up\n",
      "step=15, reward=0.00\n",
      "pressed right\n",
      "step=16, reward=0.00\n",
      "pressed up\n",
      "step=17, reward=0.00\n",
      "pressed left\n",
      "step=18, reward=0.00\n",
      "pressed up\n",
      "step=19, reward=0.00\n",
      "pressed up\n",
      "step=20, reward=0.00\n",
      "pressed left\n",
      "step=21, reward=0.00\n",
      "pressed up\n",
      "step=22, reward=0.00\n",
      "pressed up\n",
      "step=23, reward=0.00\n",
      "pressed up\n",
      "step=24, reward=0.00\n",
      "pressed up\n",
      "step=25, reward=0.00\n",
      "pressed up\n",
      "step=26, reward=0.00\n",
      "pressed up\n",
      "step=27, reward=0.00\n",
      "pressed up\n",
      "step=28, reward=0.00\n",
      "pressed right\n",
      "step=29, reward=0.00\n",
      "pressed up\n",
      "step=30, reward=0.00\n",
      "pressed up\n",
      "step=31, reward=0.00\n",
      "pressed right\n",
      "step=32, reward=0.00\n",
      "pressed up\n",
      "step=33, reward=0.00\n",
      "pressed up\n",
      "step=34, reward=0.00\n",
      "pressed up\n",
      "step=35, reward=0.00\n",
      "pressed up\n",
      "step=36, reward=0.00\n",
      "pressed up\n",
      "step=37, reward=0.00\n",
      "pressed up\n",
      "step=38, reward=0.00\n",
      "pressed up\n",
      "step=39, reward=0.65\n",
      "terminated!\n",
      "pressed up\n",
      "step=1, reward=0.00\n",
      "pressed up\n",
      "step=2, reward=0.00\n",
      "pressed up\n",
      "step=3, reward=0.00\n",
      "pressed right\n",
      "step=4, reward=0.00\n",
      "pressed up\n",
      "step=5, reward=0.00\n",
      "pressed up\n",
      "step=6, reward=0.00\n",
      "pressed up\n",
      "step=7, reward=0.00\n",
      "pressed up\n",
      "step=8, reward=0.00\n",
      "pressed up\n",
      "step=9, reward=0.00\n",
      "pressed up\n",
      "step=10, reward=0.00\n",
      "pressed escape\n",
      "ERROR:__main__:Pygame error: video system not initialized\n",
      "INFO:__main__:Closing map environment\n",
      "INFO:__main__:Collecting trajectories\n",
      "INFO:__main__:Saving environment to a file\n"
     ]
    }
   ],
   "source": [
    "! python main.py --map=\"example\" --output-file=\"episode_example\""
   ]
  },
  {
   "cell_type": "code",
   "execution_count": 2,
   "metadata": {},
   "outputs": [
    {
     "data": {
      "text/plain": [
       "(3,)"
      ]
     },
     "execution_count": 2,
     "metadata": {},
     "output_type": "execute_result"
    }
   ],
   "source": [
    "episodes = np.load(\"data/episode_example.npy\", allow_pickle=True)\n",
    "episodes.shape"
   ]
  },
  {
   "cell_type": "code",
   "execution_count": 3,
   "metadata": {},
   "outputs": [
    {
     "data": {
      "image/png": "[encoded data removed]",
      "text/plain": [
       "<Figure size 1500x500 with 3 Axes>"
      ]
     },
     "metadata": {},
     "output_type": "display_data"
    }
   ],
   "source": [
    "plt.figure(figsize=(15, 5))\n",
    "for n, episode in enumerate(episodes):\n",
    "    plt.subplot(1, len(episodes), n + 1)\n",
    "    y = ehc.get_trajectory(episode, δ=0.9)\n",
    "    plt.imshow(y.T, cmap=\"viridis\")\n",
    "    plt.title(f\"Episode {n+1}\")\n",
    "plt.show()"
   ]
  },
  {
   "cell_type": "code",
   "execution_count": 4,
   "metadata": {},
   "outputs": [],
   "source": [
    "parameters = ehc.HGModelParams(δ=0.8, τ=0.1, c=0.4)\n",
    "model = ehc.HierarchicalGenerativeModel([1.0], 100, parameters)"
   ]
  },
  {
   "cell_type": "code",
   "execution_count": 5,
   "metadata": {},
   "outputs": [
    {
     "name": "stderr",
     "output_type": "stream",
     "text": [
      "/home/borja/projects/spatial-navigation/ehc-sn/src/ehc_sn/__init__.py:160: RuntimeWarning: divide by zero encountered in log\n",
      "  Θ[k].θ = (1 - λ) * Θ[k].θ - kron_delta(ξ_i, np.log(x))  # Eq. (13)\n",
      "/home/borja/projects/spatial-navigation/ehc-sn/src/ehc_sn/__init__.py:160: RuntimeWarning: invalid value encountered in log\n",
      "  Θ[k].θ = (1 - λ) * Θ[k].θ - kron_delta(ξ_i, np.log(x))  # Eq. (13)\n"
     ]
    },
    {
     "data": {
      "text/plain": [
       "<matplotlib.image.AxesImage at 0x7f3852eca330>"
      ]
     },
     "execution_count": 5,
     "metadata": {},
     "output_type": "execute_result"
    },
    {
     "data": {
      "image/png": "[encoded data removed]",
      "text/plain": [
       "<Figure size 1500x500 with 1 Axes>"
      ]
     },
     "metadata": {},
     "output_type": "display_data"
    }
   ],
   "source": [
    "Θ = model.learning(episode=[e.reshape(e.shape[0], -1) for e in episodes])\n",
    "\n",
    "plt.figure(figsize=(15, 5))\n",
    "plt.subplot(1, 2, 1)\n",
    "plt.imshow(Θ[0].θ.reshape(10, 10), cmap=\"viridis\")"
   ]
  },
  {
   "cell_type": "code",
   "execution_count": 6,
   "metadata": {},
   "outputs": [
    {
     "data": {
      "text/plain": [
       "array([1.72430773e-01, 1.97185161e+00, 2.85747316e-01, 3.99270056e-02,\n",
       "       5.98924805e-01, 2.03953703e+00, 1.94370482e+00, 5.99440572e-01,\n",
       "       2.40690336e-01, 4.74340835e-03, 5.74450688e-01, 6.37844827e+02,\n",
       "                  nan,            nan, 3.10750500e-01,            nan,\n",
       "       1.98220564e-01,            nan,            nan, 4.74890222e-01,\n",
       "       2.16916464e+00, 6.29730910e-02,            nan,            nan,\n",
       "       7.20914591e-01, 2.31675282e+00, 9.66752898e-02,            nan,\n",
       "       1.29217493e+00, 4.84699051e-01, 9.81797295e-03, 5.35191941e-01,\n",
       "       1.12681939e-01, 8.48890888e+00, 9.17278229e+00,            nan,\n",
       "       9.25086033e+00,            nan, 1.72031669e-01, 5.77295617e-01,\n",
       "       3.59622402e-01, 5.93260750e-01, 1.22370796e-01, 1.81185241e+00,\n",
       "       2.30720862e+00, 3.53249829e+00, 3.34685779e-01,            nan,\n",
       "                  nan, 1.05810049e-01, 3.76854176e-02, 6.12750806e-02,\n",
       "       2.58146356e+00, 1.10151506e+00, 3.21500240e-01, 1.37859351e-01,\n",
       "       2.76925597e-01, 1.22289506e-01,            nan, 1.54946298e-01,\n",
       "       1.50609916e+00,            nan,            nan,            nan,\n",
       "       1.00314353e+00,            nan,            nan,            nan,\n",
       "                  nan, 1.65767163e+00, 2.59397506e-01,            nan,\n",
       "       2.98867037e-01, 2.93509753e+00, 4.29582415e-01, 1.17141484e+00,\n",
       "                  nan, 1.11901715e+00, 1.30676917e+00, 9.18014949e-02,\n",
       "       3.48043279e+00,            nan, 4.20259652e+00, 2.24347594e+00,\n",
       "                  nan, 1.13116614e+00,            nan,            nan,\n",
       "                  nan, 1.40413852e-01, 1.10578966e+00, 1.04505020e+00,\n",
       "       3.35409705e-01, 5.88818417e-01, 1.81958768e+00, 1.83729511e-01,\n",
       "       1.67745679e-01, 7.20024020e-01, 7.12234890e-02, 1.35217013e+00])"
      ]
     },
     "execution_count": 6,
     "metadata": {},
     "output_type": "execute_result"
    }
   ],
   "source": [
    "Θ[0].θ"
   ]
  }
 ],
 "metadata": {
  "kernelspec": {
   "display_name": "bccn",
   "language": "python",
   "name": "python3"
  },
  "language_info": {
   "codemirror_mode": {
    "name": "ipython",
    "version": 3
   },
   "file_extension": ".py",
   "mimetype": "text/x-python",
   "name": "python",
   "nbconvert_exporter": "python",
   "pygments_lexer": "ipython3",
   "version": "3.12.8"
  }
 },
 "nbformat": 4,
 "nbformat_minor": 2
}
