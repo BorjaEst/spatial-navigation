{
 "cells": [
  {
   "cell_type": "code",
   "execution_count": 1,
   "metadata": {},
   "outputs": [],
   "source": [
    "import ehc_sn as ehc\n",
    "import matplotlib.pyplot as plt\n",
    "import numpy as np"
   ]
  },
  {
   "cell_type": "code",
   "execution_count": 2,
   "metadata": {},
   "outputs": [
    {
     "name": "stdout",
     "output_type": "stream",
     "text": [
      "pygame 2.6.1 (SDL 2.28.4, Python 3.12.8)\n",
      "Hello from the pygame community. https://www.pygame.org/contribute.html\n",
      "\u001b[2;36m[02/22/25 16:28:09]\u001b[0m\u001b[2;36m \u001b[0m\u001b[34mINFO    \u001b[0m INFO:__main__:Preparing map          \u001b]8;id=156901;file:///home/borja/projects/spatial-navigation/scripts/run-mace.py\u001b\\\u001b[2mrun-mace.py\u001b[0m\u001b]8;;\u001b\\\u001b[2m:\u001b[0m\u001b]8;id=359509;file:///home/borja/projects/spatial-navigation/scripts/run-mace.py#64\u001b\\\u001b[2m64\u001b[0m\u001b]8;;\u001b\\\n",
      "\u001b[2;36m                    \u001b[0m         environment: example                 \u001b[2m              \u001b[0m\n",
      "\u001b[2;36m                   \u001b[0m\u001b[2;36m \u001b[0m\u001b[34mINFO    \u001b[0m INFO:__main__:Starting manual        \u001b]8;id=602628;file:///home/borja/projects/spatial-navigation/scripts/run-mace.py\u001b\\\u001b[2mrun-mace.py\u001b[0m\u001b]8;;\u001b\\\u001b[2m:\u001b[0m\u001b]8;id=920239;file:///home/borja/projects/spatial-navigation/scripts/run-mace.py#69\u001b\\\u001b[2m69\u001b[0m\u001b]8;;\u001b\\\n",
      "\u001b[2;36m                    \u001b[0m         control                              \u001b[2m              \u001b[0m\n",
      "pressed right\n",
      "step=1, reward=0.00\n",
      "pressed up\n",
      "step=2, reward=0.00\n",
      "pressed up\n",
      "step=3, reward=0.00\n",
      "pressed up\n",
      "step=4, reward=0.00\n",
      "pressed up\n",
      "step=5, reward=0.00\n",
      "pressed up\n",
      "step=6, reward=0.00\n",
      "pressed up\n",
      "step=7, reward=0.00\n",
      "pressed up\n",
      "step=8, reward=0.00\n",
      "pressed left\n",
      "step=9, reward=0.00\n",
      "pressed up\n",
      "step=10, reward=0.00\n",
      "pressed up\n",
      "step=11, reward=0.00\n",
      "pressed up\n",
      "step=12, reward=0.00\n",
      "pressed up\n",
      "step=13, reward=0.00\n",
      "pressed up\n",
      "step=14, reward=0.00\n",
      "pressed left\n",
      "step=15, reward=0.00\n",
      "pressed up\n",
      "step=16, reward=0.00\n",
      "pressed up\n",
      "step=17, reward=0.00\n",
      "pressed up\n",
      "step=18, reward=0.00\n",
      "pressed up\n",
      "step=19, reward=0.00\n",
      "pressed up\n",
      "step=20, reward=0.00\n",
      "pressed up\n",
      "step=21, reward=0.00\n",
      "pressed up\n",
      "step=22, reward=0.00\n",
      "pressed up\n",
      "step=23, reward=0.00\n",
      "pressed right\n",
      "step=24, reward=0.00\n",
      "pressed up\n",
      "step=25, reward=0.00\n",
      "pressed up\n",
      "step=26, reward=0.00\n",
      "pressed right\n",
      "step=27, reward=0.00\n",
      "pressed up\n",
      "step=28, reward=0.00\n",
      "pressed up\n",
      "step=29, reward=0.00\n",
      "pressed up\n",
      "step=30, reward=0.00\n",
      "pressed up\n",
      "step=31, reward=0.00\n",
      "pressed up\n",
      "step=32, reward=0.00\n",
      "pressed up\n",
      "step=33, reward=0.00\n",
      "pressed up\n",
      "step=34, reward=0.69\n",
      "terminated!\n",
      "pressed up\n",
      "step=1, reward=0.00\n",
      "pressed up\n",
      "step=2, reward=0.00\n",
      "pressed up\n",
      "step=3, reward=0.00\n",
      "pressed right\n",
      "step=4, reward=0.00\n",
      "pressed up\n",
      "step=5, reward=0.00\n",
      "pressed up\n",
      "step=6, reward=0.00\n",
      "pressed up\n",
      "step=7, reward=0.00\n",
      "pressed up\n",
      "step=8, reward=0.00\n",
      "pressed up\n",
      "step=9, reward=0.00\n",
      "pressed up\n",
      "step=10, reward=0.00\n",
      "pressed up\n",
      "step=11, reward=0.00\n",
      "pressed left\n",
      "step=12, reward=0.00\n",
      "pressed up\n",
      "step=13, reward=0.00\n",
      "pressed up\n",
      "step=14, reward=0.00\n",
      "pressed up\n",
      "step=15, reward=0.00\n",
      "pressed up\n",
      "step=16, reward=0.86\n",
      "terminated!\n",
      "pressed right\n",
      "step=1, reward=0.00\n",
      "pressed up\n",
      "step=2, reward=0.00\n",
      "pressed left\n",
      "step=3, reward=0.00\n",
      "pressed up\n",
      "step=4, reward=0.00\n",
      "pressed right\n",
      "step=5, reward=0.00\n",
      "pressed up\n",
      "step=6, reward=0.00\n",
      "pressed left\n",
      "step=7, reward=0.00\n",
      "pressed up\n",
      "step=8, reward=0.00\n",
      "pressed right\n",
      "step=9, reward=0.00\n",
      "pressed up\n",
      "step=10, reward=0.00\n",
      "pressed up\n",
      "step=11, reward=0.00\n",
      "pressed up\n",
      "step=12, reward=0.00\n",
      "pressed up\n",
      "step=13, reward=0.00\n",
      "pressed left\n",
      "step=14, reward=0.00\n",
      "pressed up\n",
      "step=15, reward=0.00\n",
      "pressed right\n",
      "step=16, reward=0.00\n",
      "pressed up\n",
      "step=17, reward=0.00\n",
      "pressed left\n",
      "step=18, reward=0.00\n",
      "pressed up\n",
      "step=19, reward=0.00\n",
      "pressed up\n",
      "step=20, reward=0.00\n",
      "pressed left\n",
      "step=21, reward=0.00\n",
      "pressed up\n",
      "step=22, reward=0.00\n",
      "pressed up\n",
      "step=23, reward=0.00\n",
      "pressed up\n",
      "step=24, reward=0.00\n",
      "pressed up\n",
      "step=25, reward=0.00\n",
      "pressed right\n",
      "step=26, reward=0.00\n",
      "pressed up\n",
      "step=27, reward=0.00\n",
      "pressed up\n",
      "step=28, reward=0.00\n",
      "pressed right\n",
      "step=29, reward=0.00\n",
      "pressed up\n",
      "step=30, reward=0.00\n",
      "pressed up\n",
      "step=31, reward=0.00\n",
      "pressed up\n",
      "step=32, reward=0.00\n",
      "pressed up\n",
      "step=33, reward=0.70\n",
      "terminated!\n",
      "pressed escape\n",
      "\u001b[2;36m[02/22/25 16:28:35]\u001b[0m\u001b[2;36m \u001b[0m\u001b[1;31mERROR   \u001b[0m ERROR:__main__:Pygame error: video   \u001b]8;id=303686;file:///home/borja/projects/spatial-navigation/scripts/run-mace.py\u001b\\\u001b[2mrun-mace.py\u001b[0m\u001b]8;;\u001b\\\u001b[2m:\u001b[0m\u001b]8;id=536940;file:///home/borja/projects/spatial-navigation/scripts/run-mace.py#73\u001b\\\u001b[2m73\u001b[0m\u001b]8;;\u001b\\\n",
      "\u001b[2;36m                    \u001b[0m         system not initialized               \u001b[2m              \u001b[0m\n",
      "\u001b[2;36m                   \u001b[0m\u001b[2;36m \u001b[0m\u001b[34mINFO    \u001b[0m INFO:__main__:Closing map            \u001b]8;id=778610;file:///home/borja/projects/spatial-navigation/scripts/run-mace.py\u001b\\\u001b[2mrun-mace.py\u001b[0m\u001b]8;;\u001b\\\u001b[2m:\u001b[0m\u001b]8;id=419336;file:///home/borja/projects/spatial-navigation/scripts/run-mace.py#75\u001b\\\u001b[2m75\u001b[0m\u001b]8;;\u001b\\\n",
      "\u001b[2;36m                    \u001b[0m         environment                          \u001b[2m              \u001b[0m\n",
      "\u001b[2;36m                   \u001b[0m\u001b[2;36m \u001b[0m\u001b[34mINFO    \u001b[0m INFO:__main__:Collecting             \u001b]8;id=852180;file:///home/borja/projects/spatial-navigation/scripts/run-mace.py\u001b\\\u001b[2mrun-mace.py\u001b[0m\u001b]8;;\u001b\\\u001b[2m:\u001b[0m\u001b]8;id=25388;file:///home/borja/projects/spatial-navigation/scripts/run-mace.py#79\u001b\\\u001b[2m79\u001b[0m\u001b]8;;\u001b\\\n",
      "\u001b[2;36m                    \u001b[0m         trajectories                         \u001b[2m              \u001b[0m\n",
      "\u001b[2;36m                   \u001b[0m\u001b[2;36m \u001b[0m\u001b[34mINFO    \u001b[0m INFO:__main__:Saving environment to  \u001b]8;id=923623;file:///home/borja/projects/spatial-navigation/scripts/run-mace.py\u001b\\\u001b[2mrun-mace.py\u001b[0m\u001b]8;;\u001b\\\u001b[2m:\u001b[0m\u001b]8;id=202186;file:///home/borja/projects/spatial-navigation/scripts/run-mace.py#83\u001b\\\u001b[2m83\u001b[0m\u001b]8;;\u001b\\\n",
      "\u001b[2;36m                    \u001b[0m         file data/episode_example.npy        \u001b[2m              \u001b[0m\n"
     ]
    }
   ],
   "source": [
    "! python -m scripts.run-mace --map=\"example\" --output_file=\"episode_example\""
   ]
  },
  {
   "cell_type": "code",
   "execution_count": 2,
   "metadata": {},
   "outputs": [
    {
     "data": {
      "text/plain": [
       "(3,)"
      ]
     },
     "execution_count": 2,
     "metadata": {},
     "output_type": "execute_result"
    }
   ],
   "source": [
    "episodes = np.load(\"data/episode_example.npy\", allow_pickle=True)\n",
    "episodes.shape"
   ]
  },
  {
   "cell_type": "code",
   "execution_count": 3,
   "metadata": {},
   "outputs": [
    {
     "data": {
      "image/png": "[encoded data removed]",
      "text/plain": [
       "<Figure size 1500x500 with 3 Axes>"
      ]
     },
     "metadata": {},
     "output_type": "display_data"
    }
   ],
   "source": [
    "plt.figure(figsize=(15, 5))\n",
    "for n, X in enumerate(episodes):\n",
    "    plt.subplot(1, len(episodes), n + 1)\n",
    "    y = ehc.sequence(X, δ=0.9)\n",
    "    plt.imshow(y.T, cmap=\"viridis\")\n",
    "    plt.title(f\"Episode {n+1}\")\n",
    "plt.show()"
   ]
  },
  {
   "cell_type": "code",
   "execution_count": 5,
   "metadata": {},
   "outputs": [],
   "source": [
    "settings = ehc.HGMSettings(δ=0.8, τ=0.1, c=0.4)\n",
    "model = ehc.HierarchicalGenerativeModel([1.0], 100, settings)"
   ]
  },
  {
   "cell_type": "code",
   "execution_count": 5,
   "metadata": {},
   "outputs": [
    {
     "name": "stderr",
     "output_type": "stream",
     "text": [
      "/home/borja/projects/spatial-navigation/ehc-sn/src/ehc_sn/__init__.py:160: RuntimeWarning: divide by zero encountered in log\n",
      "  Θ[k].θ = (1 - λ) * Θ[k].θ - kron_delta(ξ_i, np.log(x))  # Eq. (13)\n",
      "/home/borja/projects/spatial-navigation/ehc-sn/src/ehc_sn/__init__.py:160: RuntimeWarning: invalid value encountered in log\n",
      "  Θ[k].θ = (1 - λ) * Θ[k].θ - kron_delta(ξ_i, np.log(x))  # Eq. (13)\n"
     ]
    },
    {
     "data": {
      "text/plain": [
       "<matplotlib.image.AxesImage at 0x7f3852eca330>"
      ]
     },
     "execution_count": 5,
     "metadata": {},
     "output_type": "execute_result"
    },
    {
     "data": {
      "image/png": "[encoded data removed]",
      "text/plain": [
       "<Figure size 1500x500 with 1 Axes>"
      ]
     },
     "metadata": {},
     "output_type": "display_data"
    }
   ],
   "source": [
    "Θ = model.learning(episode=[e.reshape(e.shape[0], -1) for e in episodes])\n",
    "\n",
    "plt.figure(figsize=(15, 5))\n",
    "plt.subplot(1, 2, 1)\n",
    "plt.imshow(Θ[0].θ.reshape(10, 10), cmap=\"viridis\")"
   ]
  }
 ],
 "metadata": {
  "kernelspec": {
   "display_name": "bccn",
   "language": "python",
   "name": "python3"
  },
  "language_info": {
   "codemirror_mode": {
    "name": "ipython",
    "version": 3
   },
   "file_extension": ".py",
   "mimetype": "text/x-python",
   "name": "python",
   "nbconvert_exporter": "python",
   "pygments_lexer": "ipython3",
   "version": "3.12.8"
  }
 },
 "nbformat": 4,
 "nbformat_minor": 2
}
