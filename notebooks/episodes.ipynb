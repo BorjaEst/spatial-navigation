{
 "cells": [
  {
   "cell_type": "code",
   "execution_count": 1,
   "metadata": {},
   "outputs": [],
   "source": [
    "import ehc_sn as ehc\n",
    "import matplotlib.pyplot as plt\n",
    "import numpy as np"
   ]
  },
  {
   "cell_type": "code",
   "execution_count": 2,
   "metadata": {},
   "outputs": [
    {
     "name": "stdout",
     "output_type": "stream",
     "text": [
      "pygame 2.6.1 (SDL 2.28.4, Python 3.12.8)\n",
      "Hello from the pygame community. https://www.pygame.org/contribute.html\n",
      "INFO:__main__:Getting map environment: example\n",
      "INFO:__main__:Starting manual control\n",
      "pressed right\n",
      "step=1, reward=0.00\n",
      "pressed up\n",
      "step=2, reward=0.00\n",
      "pressed left\n",
      "step=3, reward=0.00\n",
      "pressed up\n",
      "step=4, reward=0.00\n",
      "pressed right\n",
      "step=5, reward=0.00\n",
      "pressed up\n",
      "step=6, reward=0.00\n",
      "pressed left\n",
      "step=7, reward=0.00\n",
      "pressed up\n",
      "step=8, reward=0.00\n",
      "pressed right\n",
      "step=9, reward=0.00\n",
      "pressed up\n",
      "step=10, reward=0.00\n",
      "pressed up\n",
      "step=11, reward=0.00\n",
      "pressed up\n",
      "step=12, reward=0.00\n",
      "pressed up\n",
      "step=13, reward=0.00\n",
      "pressed left\n",
      "step=14, reward=0.00\n",
      "pressed up\n",
      "step=15, reward=0.00\n",
      "pressed right\n",
      "step=16, reward=0.00\n",
      "pressed up\n",
      "step=17, reward=0.00\n",
      "pressed up\n",
      "step=18, reward=0.00\n",
      "pressed left\n",
      "step=19, reward=0.00\n",
      "pressed up\n",
      "step=20, reward=0.00\n",
      "pressed up\n",
      "step=21, reward=0.00\n",
      "pressed left\n",
      "step=22, reward=0.00\n",
      "pressed up\n",
      "step=23, reward=0.00\n",
      "pressed up\n",
      "step=24, reward=0.00\n",
      "pressed right\n",
      "step=25, reward=0.00\n",
      "pressed up\n",
      "step=26, reward=0.00\n",
      "pressed up\n",
      "step=27, reward=0.00\n",
      "pressed right\n",
      "step=28, reward=0.00\n",
      "pressed up\n",
      "step=29, reward=0.00\n",
      "pressed up\n",
      "step=30, reward=0.73\n",
      "terminated!\n",
      "pressed right\n",
      "step=1, reward=0.00\n",
      "pressed up\n",
      "step=2, reward=0.00\n",
      "pressed up\n",
      "step=3, reward=0.00\n",
      "pressed up\n",
      "step=4, reward=0.00\n",
      "pressed up\n",
      "step=5, reward=0.00\n",
      "pressed up\n",
      "step=6, reward=0.00\n",
      "pressed up\n",
      "step=7, reward=0.00\n",
      "pressed up\n",
      "step=8, reward=0.00\n",
      "pressed up\n",
      "step=9, reward=0.00\n",
      "pressed left\n",
      "step=10, reward=0.00\n",
      "pressed up\n",
      "step=11, reward=0.00\n",
      "pressed up\n",
      "step=12, reward=0.00\n",
      "pressed up\n",
      "step=13, reward=0.00\n",
      "pressed up\n",
      "step=14, reward=0.00\n",
      "pressed up\n",
      "step=15, reward=0.00\n",
      "pressed up\n",
      "step=16, reward=0.00\n",
      "pressed up\n",
      "step=17, reward=0.85\n",
      "terminated!\n",
      "pressed up\n",
      "step=1, reward=0.00\n",
      "pressed right\n",
      "step=2, reward=0.00\n",
      "pressed up\n",
      "step=3, reward=0.00\n",
      "pressed up\n",
      "step=4, reward=0.00\n",
      "pressed right\n",
      "step=5, reward=0.00\n",
      "pressed up\n",
      "step=6, reward=0.00\n",
      "pressed left\n",
      "step=7, reward=0.00\n",
      "pressed up\n",
      "step=8, reward=0.00\n",
      "pressed up\n",
      "step=9, reward=0.00\n",
      "pressed up\n",
      "step=10, reward=0.00\n",
      "pressed up\n",
      "step=11, reward=0.00\n",
      "pressed left\n",
      "step=12, reward=0.00\n",
      "pressed up\n",
      "step=13, reward=0.00\n",
      "pressed up\n",
      "step=14, reward=0.00\n",
      "pressed up\n",
      "step=15, reward=0.00\n",
      "pressed right\n",
      "step=16, reward=0.00\n",
      "pressed up\n",
      "step=17, reward=0.00\n",
      "pressed left\n",
      "step=18, reward=0.00\n",
      "pressed up\n",
      "step=19, reward=0.00\n",
      "pressed up\n",
      "step=20, reward=0.00\n",
      "pressed left\n",
      "step=21, reward=0.00\n",
      "pressed up\n",
      "step=22, reward=0.00\n",
      "pressed up\n",
      "step=23, reward=0.00\n",
      "pressed up\n",
      "step=24, reward=0.00\n",
      "pressed up\n",
      "step=25, reward=0.00\n",
      "pressed up\n",
      "step=26, reward=0.00\n",
      "pressed up\n",
      "step=27, reward=0.00\n",
      "pressed up\n",
      "step=28, reward=0.00\n",
      "pressed right\n",
      "step=29, reward=0.00\n",
      "pressed up\n",
      "step=30, reward=0.00\n",
      "pressed up\n",
      "step=31, reward=0.00\n",
      "pressed right\n",
      "step=32, reward=0.00\n",
      "pressed up\n",
      "step=33, reward=0.00\n",
      "pressed up\n",
      "step=34, reward=0.00\n",
      "pressed up\n",
      "step=35, reward=0.00\n",
      "pressed up\n",
      "step=36, reward=0.00\n",
      "pressed up\n",
      "step=37, reward=0.00\n",
      "pressed up\n",
      "step=38, reward=0.00\n",
      "pressed up\n",
      "step=39, reward=0.65\n",
      "terminated!\n",
      "pressed up\n",
      "step=1, reward=0.00\n",
      "pressed up\n",
      "step=2, reward=0.00\n",
      "pressed up\n",
      "step=3, reward=0.00\n",
      "pressed right\n",
      "step=4, reward=0.00\n",
      "pressed up\n",
      "step=5, reward=0.00\n",
      "pressed up\n",
      "step=6, reward=0.00\n",
      "pressed up\n",
      "step=7, reward=0.00\n",
      "pressed up\n",
      "step=8, reward=0.00\n",
      "pressed up\n",
      "step=9, reward=0.00\n",
      "pressed up\n",
      "step=10, reward=0.00\n",
      "pressed escape\n",
      "ERROR:__main__:Pygame error: video system not initialized\n",
      "INFO:__main__:Closing map environment\n",
      "INFO:__main__:Collecting trajectories\n",
      "INFO:__main__:Saving environment to a file\n"
     ]
    }
   ],
   "source": [
    "! python main.py --map=\"example\" --output-file=\"episode_example\""
   ]
  },
  {
   "cell_type": "code",
   "execution_count": 3,
   "metadata": {},
   "outputs": [
    {
     "data": {
      "text/plain": [
       "(3,)"
      ]
     },
     "execution_count": 3,
     "metadata": {},
     "output_type": "execute_result"
    }
   ],
   "source": [
    "episodes = np.load(\"data/episode_example.npy\", allow_pickle=True)\n",
    "episodes.shape"
   ]
  },
  {
   "cell_type": "code",
   "execution_count": 5,
   "metadata": {},
   "outputs": [
    {
     "data": {
      "image/png": "[encoded data removed]",
      "text/plain": [
       "<Figure size 1500x500 with 3 Axes>"
      ]
     },
     "metadata": {},
     "output_type": "display_data"
    }
   ],
   "source": [
    "plt.figure(figsize=(15, 5))\n",
    "for n, episode in enumerate(episodes):\n",
    "    plt.subplot(1, len(episodes), n + 1)\n",
    "    y = ehc.get_trajectory(episode, δ=0.9)\n",
    "    plt.imshow(y.T, cmap=\"viridis\")\n",
    "    plt.title(f\"Episode {n+1}\")\n",
    "plt.show()"
   ]
  },
  {
   "cell_type": "code",
   "execution_count": 6,
   "metadata": {},
   "outputs": [],
   "source": [
    "parameters = ehc.HGModelParams(δ=0.8, τ=0.9, c=0.4)\n",
    "model = ehc.HierarchicalGenerativeModel([1.0], 100, parameters)"
   ]
  },
  {
   "cell_type": "code",
   "execution_count": 20,
   "metadata": {},
   "outputs": [
    {
     "data": {
      "text/plain": [
       "<matplotlib.image.AxesImage at 0x7fc5e8ccfcb0>"
      ]
     },
     "execution_count": 20,
     "metadata": {},
     "output_type": "execute_result"
    },
    {
     "data": {
      "image/png": "[encoded data removed]",
      "text/plain": [
       "<Figure size 1500x500 with 1 Axes>"
      ]
     },
     "metadata": {},
     "output_type": "display_data"
    }
   ],
   "source": [
    "Θ = model.learning(episode=[e.reshape(e.shape[0], -1) for e in episodes])\n",
    "\n",
    "plt.figure(figsize=(15, 5))\n",
    "plt.subplot(1, 2, 1)\n",
    "plt.imshow(Θ[0].θ.reshape(10, 10), cmap=\"viridis\")"
   ]
  }
 ],
 "metadata": {
  "kernelspec": {
   "display_name": "bccn",
   "language": "python",
   "name": "python3"
  },
  "language_info": {
   "codemirror_mode": {
    "name": "ipython",
    "version": 3
   },
   "file_extension": ".py",
   "mimetype": "text/x-python",
   "name": "python",
   "nbconvert_exporter": "python",
   "pygments_lexer": "ipython3",
   "version": "3.12.8"
  }
 },
 "nbformat": 4,
 "nbformat_minor": 2
}
