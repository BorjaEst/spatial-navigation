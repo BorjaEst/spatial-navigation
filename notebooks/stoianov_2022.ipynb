{
 "cells": [
  {
   "cell_type": "code",
   "execution_count": 1,
   "metadata": {},
   "outputs": [],
   "source": [
    "# ! python -m scripts.run-mace --experiment=\"stoianov_2022\" --output_file=\"stoianov_2022\""
   ]
  },
  {
   "cell_type": "code",
   "execution_count": 2,
   "metadata": {},
   "outputs": [],
   "source": [
    "import ehc_sn as ehc\n",
    "import matplotlib.pyplot as plt\n",
    "import numpy as np\n",
    "import spnav"
   ]
  },
  {
   "cell_type": "code",
   "execution_count": 3,
   "metadata": {},
   "outputs": [
    {
     "data": {
      "text/plain": [
       "Experiment:Stoianov2022 (n_blocks=5; grid_size=17 width=None height=None max_steps=100 see_through_walls=False agent_view_size=3 render_mode='human' screen_size=640 highlight=True agent_pov=False)"
      ]
     },
     "execution_count": 3,
     "metadata": {},
     "output_type": "execute_result"
    }
   ],
   "source": [
    "experiment = spnav.load_experiment(\"stoianov_2022\")\n",
    "experiment"
   ]
  },
  {
   "cell_type": "code",
   "execution_count": 4,
   "metadata": {},
   "outputs": [],
   "source": [
    "def pipeline(experiment):\n",
    "    for block in experiment:\n",
    "        yield [tr.reshape(-1, 17**2).astype(float) for tr in block]"
   ]
  },
  {
   "cell_type": "code",
   "execution_count": 5,
   "metadata": {},
   "outputs": [
    {
     "name": "stderr",
     "output_type": "stream",
     "text": [
      "/home/borja/projects/spatial-navigation/ehc-sn/src/ehc_sn/equations.py:118: RuntimeWarning: divide by zero encountered in log\n",
      "  δ = utils.kronecker_delta(ξ_index, np.log(x))\n",
      "/home/borja/projects/spatial-navigation/ehc-sn/src/ehc_sn/equations.py:86: RuntimeWarning: covariance is not symmetric positive-semidefinite.\n",
      "  ξn = np.random.multivariate_normal(μ, Σ)  # Noisy observation\n",
      "/home/borja/projects/spatial-navigation/ehc-sn/src/ehc_sn/equations.py:118: RuntimeWarning: invalid value encountered in log\n",
      "  δ = utils.kronecker_delta(ξ_index, np.log(x))\n"
     ]
    }
   ],
   "source": [
    "experiment_data = list(pipeline(experiment))\n",
    "model = ehc.baseline(experiment_data, α=[0.1] * 5, N=17**2)"
   ]
  },
  {
   "cell_type": "code",
   "execution_count": 6,
   "metadata": {},
   "outputs": [
    {
     "data": {
      "image/png": "[encoded data removed]",
      "text/plain": [
       "<Figure size 1000x1000 with 5 Axes>"
      ]
     },
     "metadata": {},
     "output_type": "display_data"
    }
   ],
   "source": [
    "maps = model.sample_maps()\n",
    "maps = np.array(maps).reshape(-1, 17, 17)\n",
    "\n",
    "plt.figure(figsize=(10, 10))\n",
    "for i, map in enumerate(maps):\n",
    "    plt.subplot(5, 5, i + 1)\n",
    "    plt.imshow(map)\n",
    "    plt.axis(\"off\")\n",
    "plt.show()"
   ]
  }
 ],
 "metadata": {
  "kernelspec": {
   "display_name": "bccn",
   "language": "python",
   "name": "python3"
  },
  "language_info": {
   "codemirror_mode": {
    "name": "ipython",
    "version": 3
   },
   "file_extension": ".py",
   "mimetype": "text/x-python",
   "name": "python",
   "nbconvert_exporter": "python",
   "pygments_lexer": "ipython3",
   "version": "3.12.8"
  }
 },
 "nbformat": 4,
 "nbformat_minor": 2
}
