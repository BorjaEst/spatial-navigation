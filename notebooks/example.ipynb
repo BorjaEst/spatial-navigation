{
 "cells": [
  {
   "cell_type": "code",
   "execution_count": 1,
   "metadata": {},
   "outputs": [],
   "source": [
    "from ehc_sn.model import EIModel, EIParameters\n",
    "import matplotlib.pyplot as plt\n",
    "import torch"
   ]
  },
  {
   "cell_type": "code",
   "execution_count": 2,
   "metadata": {},
   "outputs": [],
   "source": [
    "from ipywidgets import interact, IntSlider, FloatSlider\n",
    "from functools import partial\n",
    "\n",
    "IntSlider = partial(IntSlider, continuous_update=False)\n",
    "FloatSlider = partial(FloatSlider, continuous_update=False)"
   ]
  },
  {
   "cell_type": "code",
   "execution_count": 3,
   "metadata": {},
   "outputs": [],
   "source": [
    "def plot_raster(spikes, title):\n",
    "    plt.figure(figsize=(10, 5))\n",
    "    for neuron_idx in range(spikes.shape[1]):\n",
    "        spike_times = torch.nonzero(spikes[:, neuron_idx]).squeeze()\n",
    "        plt.scatter(spike_times, neuron_idx * torch.ones_like(spike_times), s=1)\n",
    "    plt.title(title)\n",
    "    plt.xlabel(\"Time\")\n",
    "    plt.ylabel(\"Neuron Index\")\n",
    "    plt.xlim(0, spikes.shape[0])\n",
    "    plt.ylim(0, spikes.shape[1])\n",
    "    plt.show()"
   ]
  },
  {
   "cell_type": "code",
   "execution_count": 4,
   "metadata": {},
   "outputs": [
    {
     "data": {
      "text/plain": [
       "EIModel(\n",
       "  (excitatory): LIFRecurrentCell(input_size=100, hidden_size=100, p=LIFParameters(tau_syn_inv=tensor(200.), tau_mem_inv=tensor(100.), v_leak=tensor(0.), v_th=tensor(1.), v_reset=tensor(0.), method='super', alpha=tensor(100.)), autapses=False, dt=0.001)\n",
       "  (inihibitory): LIFCell(p=LIFParameters(tau_syn_inv=tensor(200.), tau_mem_inv=tensor(100.), v_leak=tensor(0.), v_th=tensor(1.), v_reset=tensor(0.), method='super', alpha=tensor(100.)), dt=0.001)\n",
       ")"
      ]
     },
     "execution_count": 4,
     "metadata": {},
     "output_type": "execute_result"
    }
   ],
   "source": [
    "model = EIModel()\n",
    "model"
   ]
  },
  {
   "cell_type": "code",
   "execution_count": 5,
   "metadata": {},
   "outputs": [
    {
     "data": {
      "application/vnd.jupyter.widget-view+json": {
       "model_id": "5e953ffc898a47619c2072beb1ade2ab",
       "version_major": 2,
       "version_minor": 0
      },
      "text/plain": [
       "interactive(children=(FloatSlider(value=2.4, continuous_update=False, description='current', max=10.0), IntSli…"
      ]
     },
     "metadata": {},
     "output_type": "display_data"
    }
   ],
   "source": [
    "@interact(\n",
    "    current=FloatSlider(min=0, max=10, step=0.1, value=2.4),\n",
    "    t1=IntSlider(min=0, max=1000, step=1, value=200),\n",
    "    t2=IntSlider(min=0, max=1000, step=1, value=300),\n",
    ")\n",
    "def experiment(current, t1, t2):\n",
    "    model.reset()\n",
    "    input_currents = torch.zeros(1000, model.excitatory.input_size)\n",
    "    input_currents[t1:t2, 0] = current  # Apply current to the first neuron\n",
    "    outputs = model(input_currents)\n",
    "    plot_raster(outputs, \"Balanced state spikes\")"
   ]
  },
  {
   "cell_type": "code",
   "execution_count": 6,
   "metadata": {},
   "outputs": [
    {
     "data": {
      "application/vnd.jupyter.widget-view+json": {
       "model_id": "00ba41b4f6564ae4a85c3391afc63f4c",
       "version_major": 2,
       "version_minor": 0
      },
      "text/plain": [
       "interactive(children=(FloatSlider(value=0.1, continuous_update=False, description='rr_conn', max=0.2, step=0.0…"
      ]
     },
     "metadata": {},
     "output_type": "display_data"
    }
   ],
   "source": [
    "@interact(\n",
    "    rr_conn=FloatSlider(min=0, max=0.2, step=0.001, value=0.1),\n",
    "    ei_prop=FloatSlider(min=0, max=0.4, step=0.001, value=0.1),\n",
    "    ie_prop=FloatSlider(min=0, max=0.4, step=0.001, value=0.1),\n",
    ")\n",
    "def experiment(rr_conn, ei_prop, ie_prop):\n",
    "    model = EIModel(EIParameters(rr_conn=rr_conn, ei_prop=ei_prop, ie_prop=ie_prop))\n",
    "    input_currents = torch.zeros(1000, model.excitatory.input_size)\n",
    "    input_currents[100:300, 0] = 2.4  # Apply current to the first neuron\n",
    "    outputs = model(input_currents)\n",
    "    plot_raster(outputs, \"Balanced state spikes\")"
   ]
  }
 ],
 "metadata": {
  "kernelspec": {
   "display_name": "bccn",
   "language": "python",
   "name": "python3"
  },
  "language_info": {
   "codemirror_mode": {
    "name": "ipython",
    "version": 3
   },
   "file_extension": ".py",
   "mimetype": "text/x-python",
   "name": "python",
   "nbconvert_exporter": "python",
   "pygments_lexer": "ipython3",
   "version": "3.12.8"
  }
 },
 "nbformat": 4,
 "nbformat_minor": 2
}
