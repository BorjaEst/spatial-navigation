{
 "cells": [
  {
   "cell_type": "code",
   "execution_count": 1,
   "metadata": {},
   "outputs": [],
   "source": [
    "import matplotlib.pyplot as plt\n",
    "import numpy as np\n",
    "import torch\n",
    "from ehc_sn import config\n",
    "from ehc_sn.parameters import Plasticity, Synapses\n",
    "from norse.torch.functional import stdp\n",
    "\n",
    "config.device = \"cpu\""
   ]
  },
  {
   "cell_type": "code",
   "execution_count": 2,
   "metadata": {},
   "outputs": [],
   "source": [
    "from ipywidgets import interact, IntSlider, FloatSlider\n",
    "from functools import partial\n",
    "\n",
    "IntSlider = partial(IntSlider, continuous_update=False)\n",
    "FloatSlider = partial(FloatSlider, continuous_update=False)"
   ]
  },
  {
   "cell_type": "code",
   "execution_count": 3,
   "metadata": {},
   "outputs": [],
   "source": [
    "def dw_pre(delay, p_stdp):  # Post -> Pre: LTD\n",
    "    \"\"\"Compute the weight change for a pre spike.\"\"\"\n",
    "    pre_spike = torch.tensor([[1.0]]), torch.tensor([[0.0]])\n",
    "    post_spike = torch.tensor([[0.0]]), torch.tensor([[1.0]])\n",
    "    no_spike = torch.tensor([[0.0]]), torch.tensor([[0.0]])\n",
    "    w = torch.tensor([[0.0]], requires_grad=False)\n",
    "    state = stdp.STDPState(t_pre=torch.tensor([[0.0]]), t_post=torch.tensor([[0.0]]))\n",
    "    _, state = stdp.stdp_step_linear(*post_spike, w, state, p_stdp, dt=0.001)\n",
    "    time = -0.001 * np.arange(0, delay)\n",
    "    dw = []\n",
    "    for _ in time:\n",
    "        w = torch.tensor([[0.0]], requires_grad=False)\n",
    "        dw.append(stdp.stdp_step_linear(*pre_spike, w, state, p_stdp, dt=0.001)[0][0])\n",
    "        state = stdp.stdp_step_linear(*no_spike, w, state, p_stdp, dt=0.001)[1]\n",
    "    return time, dw"
   ]
  },
  {
   "cell_type": "code",
   "execution_count": 4,
   "metadata": {},
   "outputs": [],
   "source": [
    "def dw_post(delay, p_stdp):  # Pre -> Post: LTP\n",
    "    \"\"\"Compute the weight change for a post spike.\"\"\"\n",
    "    pre_spike = torch.tensor([[1.0]]), torch.tensor([[0.0]])\n",
    "    post_spike = torch.tensor([[0.0]]), torch.tensor([[1.0]])\n",
    "    no_spike = torch.tensor([[0.0]]), torch.tensor([[0.0]])\n",
    "    w = torch.tensor([[0.0]], requires_grad=False)\n",
    "    state = stdp.STDPState(t_pre=torch.tensor([[0.0]]), t_post=torch.tensor([[0.0]]))\n",
    "    _, state = stdp.stdp_step_linear(*pre_spike, w, state, p_stdp, dt=0.001)\n",
    "    time = 0.001 * np.arange(0, delay)\n",
    "    dw = []\n",
    "    for _ in time:\n",
    "        w = torch.tensor([[0.0]], requires_grad=False)\n",
    "        dw.append(stdp.stdp_step_linear(*post_spike, w, state, p_stdp, dt=0.001)[0][0])\n",
    "        state = stdp.stdp_step_linear(*no_spike, w, state, p_stdp, dt=0.001)[1]\n",
    "    return time, dw"
   ]
  },
  {
   "cell_type": "code",
   "execution_count": 5,
   "metadata": {},
   "outputs": [
    {
     "data": {
      "application/vnd.jupyter.widget-view+json": {
       "model_id": "ced2688c57c545589527d4d671851cac",
       "version_major": 2,
       "version_minor": 0
      },
      "text/plain": [
       "interactive(children=(FloatSlider(value=1.0, continuous_update=False, description='gain_ltp', max=1.0, step=0.…"
      ]
     },
     "metadata": {},
     "output_type": "display_data"
    }
   ],
   "source": [
    "@interact(\n",
    "    gain_ltp=FloatSlider(min=0.0, max=1.0, step=0.01, value=1.0),\n",
    "    gain_ltd=FloatSlider(min=0.0, max=1.0, step=0.01, value=1.0),\n",
    "    tau_ltp=FloatSlider(min=0.0, max=1.0, step=0.01, value=0.01),\n",
    "    tau_ltd=FloatSlider(min=0.0, max=1.0, step=0.01, value=0.02),\n",
    ")\n",
    "def experiment(gain_ltp, gain_ltd, tau_ltp, tau_ltd):\n",
    "    p = Synapses(\n",
    "        input_size=1, w_min=-10.0, w_max=10.0,\n",
    "        ltp=Plasticity(gain=gain_ltp, tau=tau_ltp),\n",
    "        ltd=Plasticity(gain=gain_ltd, tau=tau_ltd),\n",
    "    ).stdp_parameters() # fmt: skip\n",
    "\n",
    "    plt.figure(figsize=(10, 5))\n",
    "    plt.title(\"Model STDP parameters\")\n",
    "\n",
    "    plt.plot(*dw_pre(100, p), \"-\", label=\"LTD\")\n",
    "    plt.plot(*dw_post(100, p), \"-\", label=\"LTP\")\n",
    "    plt.axhline(y=0, color=\"gray\", linestyle=\"--\", linewidth=0.5)\n",
    "    plt.axvline(x=0, color=\"gray\", linestyle=\"--\", linewidth=0.5)\n",
    "\n",
    "    plt.xlabel(\"delay [ms]\")\n",
    "    plt.ylabel(\"weight change\")\n",
    "    plt.legend()\n",
    "    plt.tight_layout()\n",
    "    plt.show()"
   ]
  }
 ],
 "metadata": {
  "kernelspec": {
   "display_name": "bccn",
   "language": "python",
   "name": "python3"
  },
  "language_info": {
   "codemirror_mode": {
    "name": "ipython",
    "version": 3
   },
   "file_extension": ".py",
   "mimetype": "text/x-python",
   "name": "python",
   "nbconvert_exporter": "python",
   "pygments_lexer": "ipython3",
   "version": "3.12.8"
  },
  "orig_nbformat": 4
 },
 "nbformat": 4,
 "nbformat_minor": 2
}
