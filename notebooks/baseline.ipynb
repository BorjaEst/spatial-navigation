{
 "cells": [
  {
   "cell_type": "code",
   "execution_count": null,
   "metadata": {},
   "outputs": [],
   "source": [
    "# ! python -m scripts.run-mace --map=\"example\" --output_file=\"ex_trajectories\""
   ]
  },
  {
   "cell_type": "code",
   "execution_count": 1,
   "metadata": {},
   "outputs": [],
   "source": [
    "import ehc_sn as ehc\n",
    "import matplotlib.pyplot as plt\n",
    "import numpy as np"
   ]
  },
  {
   "cell_type": "code",
   "execution_count": 2,
   "metadata": {},
   "outputs": [],
   "source": [
    "episode_1 = np.load(\"data/ex_trajectories.npy\", allow_pickle=True)\n",
    "episode_2 = np.load(\"data/ex_trajectories.npy\", allow_pickle=True)"
   ]
  },
  {
   "cell_type": "code",
   "execution_count": 3,
   "metadata": {},
   "outputs": [
    {
     "data": {
      "image/png": "[encoded data removed]",
      "text/plain": [
       "<Figure size 1500x500 with 3 Axes>"
      ]
     },
     "metadata": {},
     "output_type": "display_data"
    }
   ],
   "source": [
    "plt.figure(figsize=(15, 5))\n",
    "n_tr = min(3, len(episode_1))\n",
    "for n, X in enumerate(episode_1[:n_tr]):\n",
    "    plt.subplot(1, n_tr, n + 1)\n",
    "    y = ehc.sequence(X, δ=0.7)\n",
    "    plt.imshow(y.T, cmap=\"viridis\")\n",
    "    plt.title(f\"Episode {n+1}\")\n",
    "plt.show()"
   ]
  },
  {
   "cell_type": "code",
   "execution_count": 4,
   "metadata": {},
   "outputs": [],
   "source": [
    "experiment = [\n",
    "    [e.reshape(e.shape[0], -1).astype(np.float64) for e in episode]\n",
    "    for episode in [episode_1, episode_2]\n",
    "]"
   ]
  },
  {
   "cell_type": "code",
   "execution_count": null,
   "metadata": {},
   "outputs": [
    {
     "name": "stderr",
     "output_type": "stream",
     "text": [
      "/home/borja/projects/spatial-navigation/ehc-sn/src/ehc_sn/equations.py:118: RuntimeWarning: divide by zero encountered in log\n",
      "  δ = utils.kronecker_delta(ξ_index, np.log(x))\n",
      "/home/borja/projects/spatial-navigation/ehc-sn/src/ehc_sn/equations.py:86: RuntimeWarning: covariance is not symmetric positive-semidefinite.\n",
      "  ξn = np.random.multivariate_normal(μ, Σ)  # Noisy observation\n",
      "/home/borja/projects/spatial-navigation/ehc-sn/src/ehc_sn/equations.py:118: RuntimeWarning: invalid value encountered in log\n",
      "  δ = utils.kronecker_delta(ξ_index, np.log(x))\n"
     ]
    }
   ],
   "source": [
    "settings = ehc.GenSettings(δ=0.7, τ=0.9, c=0.4, γ=0.1, λ=0.1)\n",
    "model = ehc.baseline(experiment, [0.1] * 2, 100, settings)"
   ]
  },
  {
   "cell_type": "code",
   "execution_count": null,
   "metadata": {},
   "outputs": [],
   "source": [
    "Θ = model.sample_maps()\n",
    "map_1 = Θ[0].reshape(10, 10).T\n",
    "map_2 = Θ[1].reshape(10, 10).T\n",
    "\n",
    "plot_style = dict(\n",
    "    cmap=\"viridis\",\n",
    "    aspect=\"auto\",\n",
    "    vmin=np.nanmin([map_1, map_2]),\n",
    "    vmax=np.nanmax([map_1, map_2]),\n",
    ")\n",
    "\n",
    "fig, (ax1, ax2) = plt.subplots(1, 2, figsize=(12, 8))\n",
    "cax1 = ax1.imshow(map_1, **plot_style)\n",
    "cax2 = ax2.imshow(map_2, **plot_style)\n",
    "\n",
    "fig.colorbar(cax1, ax=[ax1, ax2], orientation=\"horizontal\")\n",
    "ax1.set_title(\"Array 1\"), ax2.set_title(\"Array 2\")\n",
    "plt.show()"
   ]
  }
 ],
 "metadata": {
  "kernelspec": {
   "display_name": "bccn",
   "language": "python",
   "name": "python3"
  },
  "language_info": {
   "codemirror_mode": {
    "name": "ipython",
    "version": 3
   },
   "file_extension": ".py",
   "mimetype": "text/x-python",
   "name": "python",
   "nbconvert_exporter": "python",
   "pygments_lexer": "ipython3",
   "version": "3.12.8"
  }
 },
 "nbformat": 4,
 "nbformat_minor": 2
}
