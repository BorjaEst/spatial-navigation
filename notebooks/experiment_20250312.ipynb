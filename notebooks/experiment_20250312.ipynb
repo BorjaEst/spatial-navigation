{
 "cells": [
  {
   "cell_type": "code",
   "execution_count": 1,
   "metadata": {},
   "outputs": [],
   "source": [
    "import matplotlib.pyplot as plt\n",
    "import torch\n",
    "import ehc_sn as ehc"
   ]
  },
  {
   "cell_type": "code",
   "execution_count": 2,
   "metadata": {},
   "outputs": [],
   "source": [
    "from ipywidgets import interact, IntSlider, FloatSlider\n",
    "from functools import partial\n",
    "\n",
    "IntSlider = partial(IntSlider, continuous_update=False)\n",
    "FloatSlider = partial(FloatSlider, continuous_update=False)"
   ]
  },
  {
   "cell_type": "code",
   "execution_count": 3,
   "metadata": {},
   "outputs": [],
   "source": [
    "import tomllib as toml\n",
    "\n",
    "with open(\"configurations/experiment_20250312.toml\", \"rb\") as f:\n",
    "    data = toml.load(f)"
   ]
  },
  {
   "cell_type": "code",
   "execution_count": 4,
   "metadata": {},
   "outputs": [],
   "source": [
    "def plot_raster(spikes, title):\n",
    "    plt.figure(figsize=(10, 5))\n",
    "    for neuron_idx in range(spikes.shape[1]):\n",
    "        spike_times = torch.nonzero(spikes[:, neuron_idx]).squeeze()\n",
    "        plt.scatter(spike_times, neuron_idx * torch.ones_like(spike_times), s=1)\n",
    "    plt.title(title)\n",
    "    plt.xlabel(\"Time\")\n",
    "    plt.ylabel(\"Neuron Index\")\n",
    "    plt.xlim(0, spikes.shape[0])\n",
    "    plt.ylim(0, spikes.shape[1])\n",
    "    plt.show()"
   ]
  },
  {
   "cell_type": "code",
   "execution_count": 5,
   "metadata": {},
   "outputs": [
    {
     "data": {
      "text/plain": [
       "EIModel(\n",
       "  (excitatory): LIFRefracCell(p=LIFRefracParameters(lif=LIFParameters(tau_syn_inv=tensor(2., device='cuda:0'), tau_mem_inv=tensor(0.5000, device='cuda:0'), v_leak=tensor(-60., device='cuda:0'), v_th=tensor(-50., device='cuda:0'), v_reset=tensor(-60., device='cuda:0'), method='super', alpha=tensor(0.5000, device='cuda:0')), rho_reset=tensor(2., device='cuda:0')), dt=0.001)\n",
       "  (inihibitory): LIFRefracCell(p=LIFRefracParameters(lif=LIFParameters(tau_syn_inv=tensor(1., device='cuda:0'), tau_mem_inv=tensor(0.5000, device='cuda:0'), v_leak=tensor(-60., device='cuda:0'), v_th=tensor(-50., device='cuda:0'), v_reset=tensor(-60., device='cuda:0'), method='super', alpha=tensor(0.5000, device='cuda:0')), rho_reset=tensor(2., device='cuda:0')), dt=0.001)\n",
       ")"
      ]
     },
     "execution_count": 5,
     "metadata": {},
     "output_type": "execute_result"
    }
   ],
   "source": [
    "model = ehc.EIModel(p=ehc.EIParameters.model_validate(data))\n",
    "model"
   ]
  },
  {
   "cell_type": "code",
   "execution_count": 7,
   "metadata": {},
   "outputs": [
    {
     "data": {
      "application/vnd.jupyter.widget-view+json": {
       "model_id": "9549969f359d460294ccf68def5ccdf1",
       "version_major": 2,
       "version_minor": 0
      },
      "text/plain": [
       "interactive(children=(FloatSlider(value=2.4, continuous_update=False, description='current', max=10.0), IntSli…"
      ]
     },
     "metadata": {},
     "output_type": "display_data"
    }
   ],
   "source": [
    "@interact(\n",
    "    current=FloatSlider(min=0, max=10, step=0.1, value=2.4),\n",
    "    t1=IntSlider(min=0, max=1000, step=1, value=100),\n",
    "    t2=IntSlider(min=0, max=1000, step=1, value=300),\n",
    ")\n",
    "def experiment(current, t1, t2):\n",
    "    model.reset()\n",
    "    input_current = torch.zeros(1000, model.populations.n_exc).to(ehc.device)\n",
    "    input_current[t1:t2, :] = current  # Apply current to the first neuron\n",
    "    outputs = model(input_current)\n",
    "    plot_raster(outputs.to(\"cpu\"), \"Balanced state spikes\")"
   ]
  }
 ],
 "metadata": {
  "kernelspec": {
   "display_name": "bccn",
   "language": "python",
   "name": "python3"
  },
  "language_info": {
   "codemirror_mode": {
    "name": "ipython",
    "version": 3
   },
   "file_extension": ".py",
   "mimetype": "text/x-python",
   "name": "python",
   "nbconvert_exporter": "python",
   "pygments_lexer": "ipython3",
   "version": "3.12.8"
  }
 },
 "nbformat": 4,
 "nbformat_minor": 2
}
