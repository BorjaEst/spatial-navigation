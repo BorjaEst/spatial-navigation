{
 "cells": [
  {
   "cell_type": "code",
   "execution_count": 1,
   "metadata": {},
   "outputs": [],
   "source": [
    "import matplotlib.pyplot as plt\n",
    "import torch\n",
    "import ehc_sn as ehc"
   ]
  },
  {
   "cell_type": "code",
   "execution_count": 2,
   "metadata": {},
   "outputs": [],
   "source": [
    "from ipywidgets import interact, IntSlider, FloatSlider\n",
    "from functools import partial\n",
    "\n",
    "IntSlider = partial(IntSlider, continuous_update=False)\n",
    "FloatSlider = partial(FloatSlider, continuous_update=False)"
   ]
  },
  {
   "cell_type": "code",
   "execution_count": 3,
   "metadata": {},
   "outputs": [],
   "source": [
    "class SNN(ehc.Network):\n",
    "    def forward(self, x: torch.Tensor) -> torch.Tensor:\n",
    "        # Excitatory layer dynamics\n",
    "        xee = self.layers[\"excitatory\"].nodes[0] @ self.w[\"excitatory\"][\"excitatory\"].T\n",
    "        xie = self.layers[\"inhibitory\"].nodes[0] @ self.w[\"inhibitory\"][\"excitatory\"].T\n",
    "        x_e, cell = x + xee - xie, self.layers[\"excitatory\"].cell\n",
    "        self.layers[\"excitatory\"].nodes = cell(x_e, self.layers[\"excitatory\"].nodes[1])\n",
    "        # Inhibitory layer dynamics\n",
    "        xei = self.layers[\"excitatory\"].nodes[0] @ self.w[\"excitatory\"][\"inhibitory\"].T\n",
    "        xii = self.layers[\"inhibitory\"].nodes[0] @ self.w[\"inhibitory\"][\"inhibitory\"].T\n",
    "        x_i, cell = xei - xii, self.layers[\"inhibitory\"].cell\n",
    "        self.layers[\"inhibitory\"].nodes = cell(x_i, self.layers[\"inhibitory\"].nodes[1])\n",
    "        # Update the synaptic weights\n",
    "        self.plasticity(\"inhibitory\", \"excitatory\")\n",
    "        # Return the excitatory layer output\n",
    "        return self.layers[\"excitatory\"].nodes[0]"
   ]
  },
  {
   "cell_type": "code",
   "execution_count": 4,
   "metadata": {},
   "outputs": [],
   "source": [
    "import tomllib as toml\n",
    "\n",
    "with open(\"configurations/experiment_20250312.toml\", \"rb\") as f:\n",
    "    data = toml.load(f)"
   ]
  },
  {
   "cell_type": "code",
   "execution_count": 5,
   "metadata": {},
   "outputs": [],
   "source": [
    "def plot_raster(spikes, title):\n",
    "    plt.figure(figsize=(10, 5))\n",
    "    for neuron_idx in range(spikes.shape[1]):\n",
    "        spike_times = torch.nonzero(spikes[:, neuron_idx]).squeeze()\n",
    "        plt.scatter(spike_times, neuron_idx * torch.ones_like(spike_times), s=1)\n",
    "    plt.title(title)\n",
    "    plt.xlabel(\"Time\")\n",
    "    plt.ylabel(\"Neuron Index\")\n",
    "    plt.xlim(0, spikes.shape[0])\n",
    "    plt.ylim(0, spikes.shape[1])\n",
    "    plt.show()"
   ]
  },
  {
   "cell_type": "code",
   "execution_count": 13,
   "metadata": {},
   "outputs": [
    {
     "data": {
      "text/plain": [
       "EHCModel(\n",
       "  (encoder): ConstantCurrentLIFEncoder()\n",
       "  (network): SNN()\n",
       "  (decoder): SumDecoder()\n",
       ")"
      ]
     },
     "execution_count": 13,
     "metadata": {},
     "output_type": "execute_result"
    }
   ],
   "source": [
    "model = ehc.EHCModel(SNN(p=ehc.NetworkParameters.model_validate(data)))\n",
    "# model = torch.compile(model)\n",
    "model.eval()"
   ]
  },
  {
   "cell_type": "code",
   "execution_count": null,
   "metadata": {},
   "outputs": [
    {
     "data": {
      "text/plain": [
       "tensor([0., 0., 0., 0., 0., 0., 0., 0., 0., 0., 0., 0., 0., 0., 0., 0., 0., 0., 0., 0., 0., 0., 0., 0.,\n",
       "        0., 0., 0., 0., 0., 0., 0., 0., 0., 0., 0., 0., 0., 0., 0., 0., 0., 0., 0., 0., 0., 0., 0., 0.,\n",
       "        0., 0., 0., 0., 0., 0., 0., 0., 0., 0., 0., 0., 0., 0., 0., 0., 0., 0., 0., 0., 0., 0., 0., 0.,\n",
       "        0., 0., 0., 0., 0., 0., 0., 0., 0., 0., 0., 0., 0., 0., 0., 0., 0., 0., 0., 0., 0., 0., 0., 0.,\n",
       "        0., 0., 0., 0., 0., 0., 0., 0., 0., 0., 0., 0., 0., 0., 0., 0., 0., 0., 0., 0., 0., 0., 0., 0.,\n",
       "        0., 0., 0., 0., 0., 0., 0., 0., 0., 0., 0., 0., 0., 0., 0., 0., 0., 0., 0., 0., 0., 0., 0., 0.,\n",
       "        0., 0., 0., 0., 0., 0., 0., 0., 0., 0., 0., 0., 0., 0., 0., 0., 0., 0., 0., 0., 0., 0., 0., 0.,\n",
       "        0., 0., 0., 0., 0., 0., 0., 0., 0., 0., 0., 0., 0., 0., 0., 0., 0., 0., 0., 0., 0., 0., 0., 0.,\n",
       "        0., 0., 0., 0., 0., 0., 0., 0., 0., 0., 0., 0., 0., 0., 0., 0., 0., 0., 0., 0., 0., 0., 0., 0.,\n",
       "        0., 0., 0., 0., 0., 0., 0., 0., 0., 0., 0., 0., 0., 0., 0., 0., 0., 0., 0., 0., 0., 0., 0., 0.,\n",
       "        0., 0., 0., 0., 0., 0., 0., 0., 0., 0., 0., 0., 0., 0., 0., 0., 0., 0., 0., 0., 0., 0., 0., 0.,\n",
       "        0., 0., 0., 0., 0., 0., 0., 0., 0., 0., 0., 0., 0., 0., 0., 0., 0., 0., 0., 0., 0., 0., 0., 0.,\n",
       "        0., 0., 0., 0., 0., 0., 0., 0., 0., 0., 0., 0., 0., 0., 0., 0., 0., 0., 0., 0., 0., 0., 0., 0.,\n",
       "        0., 0., 0., 0., 0., 0., 0., 0., 0., 0., 0., 0., 0., 0., 0., 0., 0., 0., 0., 0., 0., 0., 0., 0.,\n",
       "        0., 0., 0., 0., 0., 0., 0., 0., 0., 0., 0., 0., 0., 0., 0., 0., 0., 0., 0., 0., 0., 0., 0., 0.,\n",
       "        0., 0., 0., 0., 0., 0., 0., 0., 0., 0., 0., 0., 0., 0., 0., 0., 0., 0., 0., 0., 0., 0., 0., 0.,\n",
       "        0., 0., 0., 0., 0., 0., 0., 0., 0., 0., 0., 0., 0., 0., 0., 0.],\n",
       "       device='cuda:0', grad_fn=<SumBackward1>)"
      ]
     },
     "execution_count": 31,
     "metadata": {},
     "output_type": "execute_result"
    }
   ],
   "source": [
    "input = torch.zeros(model.network.layers[\"excitatory\"].population).to(ehc.device)\n",
    "input[:] = 1.0\n",
    "\n",
    "model(input)"
   ]
  }
 ],
 "metadata": {
  "kernelspec": {
   "display_name": "bccn",
   "language": "python",
   "name": "python3"
  },
  "language_info": {
   "codemirror_mode": {
    "name": "ipython",
    "version": 3
   },
   "file_extension": ".py",
   "mimetype": "text/x-python",
   "name": "python",
   "nbconvert_exporter": "python",
   "pygments_lexer": "ipython3",
   "version": "3.12.8"
  }
 },
 "nbformat": 4,
 "nbformat_minor": 2
}
